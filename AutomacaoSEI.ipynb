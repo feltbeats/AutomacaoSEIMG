{
  "nbformat": 4,
  "nbformat_minor": 0,
  "metadata": {
    "colab": {
      "provenance": []
    },
    "kernelspec": {
      "name": "python3",
      "display_name": "Python 3"
    },
    "language_info": {
      "name": "python"
    }
  },
  "cells": [
    {
      "cell_type": "code",
      "source": [
        "!pip install webdriver_manager\n",
        "!pip install selenium\n",
        "!apt-get update\n",
        "!apt-get -q upgrade -y\n",
        "!apt-get install chromium-browser\n",
        "!apt-get -q install -y chromium-chromedriver\n",
        "!pip install seleniumbase\n",
        "!pip install easygui\n",
        "!pip install PyQt5\n",
        "!pip install tk"
      ],
      "metadata": {
        "id": "18g3iRUkLyPt"
      },
      "execution_count": null,
      "outputs": []
    },
    {
      "cell_type": "code",
      "source": [
        "from selenium import webdriver\n",
        "from webdriver_manager.chrome import ChromeDriverManager\n",
        "import pandas as pd\n",
        "import time\n",
        "from selenium.webdriver.common.by import By\n",
        "from selenium.common.exceptions import NoSuchElementException\n",
        "import getpass\n",
        "import shutil\n",
        "import easygui\n",
        "from PyQt5.QtWidgets import QFileDialog, QApplication\n",
        "import sys\n",
        "from tkinter import Tk, filedialog"
      ],
      "metadata": {
        "id": "SShyp1L8YO-E"
      },
      "execution_count": null,
      "outputs": []
    },
    {
      "cell_type": "code",
      "source": [
        "# Configuração do webdriver\n",
        "options = webdriver.ChromeOptions()\n",
        "options.binary_location = '/usr/bin/chromium-browser'\n",
        "options.add_argument('--disable-dev-shm-usage')\n",
        "options.add_argument('--no-sandbox')\n",
        "options.add_argument('--headless')\n",
        "options.add_argument('--disable-gpu')\n",
        "\n",
        "navegador = webdriver.Chrome(options=options)"
      ],
      "metadata": {
        "id": "yVQefTcrZh-C"
      },
      "execution_count": null,
      "outputs": []
    },
    {
      "cell_type": "code",
      "source": [
        "def fazer_login():\n",
        "    # Passo 1 - selecionar o site\n",
        "    url = \"https://www.sei.mg.gov.br/sei/controlador_externo.php?acao=usuario_externo_logar&id_orgao_acesso_externo=0\"\n",
        "    navegador.get(url)\n",
        "\n",
        "    # Pedir ao usuário para inserir o nome de usuário\n",
        "    usuario = input(\"Digite o seu usuário: \")\n",
        "\n",
        "    # Pedir ao usuário para inserir a senha de forma segura (oculta)\n",
        "    senha = getpass.getpass(\"Digite a sua senha: \")\n",
        "\n",
        "    # Preencher campos de usuário e senha\n",
        "    navegador.find_element(By.XPATH, '//*[@id=\"txtEmail\"]').send_keys(usuario)\n",
        "    navegador.find_element(By.XPATH, '//*[@id=\"pwdSenha\"]').send_keys(senha)\n",
        "\n",
        "    # Passo 3 - clicar no botão e entrar\n",
        "    navegador.find_element(By.XPATH, '//*[@id=\"sbmLogin\"]').click()\n",
        "\n",
        "    try:\n",
        "        # Verificar se o login foi bem-sucedido\n",
        "        if navegador.find_element(By.ID, 'divInfraBarraLocalizacao').text == 'Controle de Acessos Externos':\n",
        "            print(\"Login bem-sucedido!\")\n",
        "        else:\n",
        "            print(\"Login falhou. Verifique seu usuário e senha e tente novamente.\")\n",
        "            fazer_login()  # Solicitar que o usuário insira novamente as credenciais\n",
        "    except NoSuchElementException:\n",
        "        print(\"Login falhou. Verifique seu usuário e senha e tente novamente.\")\n",
        "        fazer_login()  # Solicitar que o usuário insira novamente as credenciais\n",
        "\n",
        "# Iniciar o processo de login\n",
        "fazer_login()"
      ],
      "metadata": {
        "id": "VbXWjWbteWST"
      },
      "execution_count": null,
      "outputs": []
    },
    {
      "cell_type": "code",
      "source": [
        "# Inicialização de listas para armazenar URLs de processos\n",
        "urls_processos = []\n",
        "\n",
        "# Loop para coletar URLs de processos\n",
        "while True:\n",
        "    elementos_links_processos = navegador.find_elements(By.XPATH, '//*[@id=\"tblDocumentos\"]//td[2]/a')\n",
        "\n",
        "    if not elementos_links_processos:\n",
        "        break\n",
        "\n",
        "    urls_processos += [elemento.get_attribute('href') for elemento in elementos_links_processos]\n",
        "\n",
        "    try:\n",
        "        paginacao = navegador.find_element(By.ID, 'lnkInfraProximaPaginaSuperior')\n",
        "        paginacao.click()\n",
        "        time.sleep(3)\n",
        "    except NoSuchElementException:\n",
        "        break\n",
        "\n",
        "# Inicialização de lista para armazenar informações dos processos\n",
        "informacoes = []\n",
        "\n",
        "# Loop para coletar informações dos processos\n",
        "for url_processo in urls_processos:\n",
        "    try:\n",
        "        navegador.get(url_processo)\n",
        "\n",
        "        numero_processo_pagina = navegador.find_element(By.XPATH, '//*[@id=\"tblCabecalho\"]/tbody/tr[2]/td[2]').text\n",
        "        tabela_cabecalho = navegador.find_element(By.ID, 'tblCabecalho')\n",
        "        dado1 = tabela_cabecalho.find_element(By.XPATH, '//*[@id=\"tblCabecalho\"]/tbody/tr[3]/td[2]').text\n",
        "        dado2 = tabela_cabecalho.find_element(By.XPATH, '//*[@id=\"tblCabecalho\"]/tbody/tr[4]/td[2]').text\n",
        "        tabela_documentos = navegador.find_element(By.ID, 'tblDocumentos')\n",
        "        elementos_ultima_linha = tabela_documentos.find_elements(By.XPATH, '//*[@id=\"tblDocumentos\"]/tbody/tr[last()]/td')\n",
        "        dado3 = elementos_ultima_linha[2].text\n",
        "        dado4 = elementos_ultima_linha[3].text\n",
        "        dado5 = elementos_ultima_linha[4].text\n",
        "\n",
        "        informacoes.append({'Número de Processo Página': numero_processo_pagina, 'Tipo de Processo': dado1, 'Data de Criação': dado2, 'Último Documento': dado3, 'Data de Última Movimentação': dado4, 'Unidade do Documento': dado5})\n",
        "    except Exception as e:\n",
        "        print(f\"Erro ao acessar a URL: {url_processo}\")\n",
        "        print(f\"Erro: {e}\")\n",
        "        continue  # Pula para o próximo link em caso de erro\n",
        "\n",
        "# Criação de um DataFrame com as informações\n",
        "df = pd.DataFrame(informacoes, columns=['Número de Processo Página', 'Tipo de Processo', 'Data de Criação', 'Último Documento', 'Data de Última Movimentação', 'Unidade do Documento'])\n",
        "\n",
        "# Nome do arquivo de saída\n",
        "nome_arquivo = \"dados_processos.xlsx\"\n",
        "\n",
        "# Salvar o DataFrame em um arquivo Excel\n",
        "df.to_excel(nome_arquivo, index=False)\n"
      ],
      "metadata": {
        "id": "o-wkeJpNtH66"
      },
      "execution_count": null,
      "outputs": []
    },
    {
      "cell_type": "code",
      "source": [
        "from google.colab import files\n",
        "\n",
        "# Mova o arquivo para o diretório /content, caso ainda não esteja lá\n",
        "import shutil\n",
        "shutil.move(nome_arquivo, '/content/' + nome_arquivo)\n",
        "\n",
        "# Gere um link para o usuário baixar o arquivo\n",
        "files.download(nome_arquivo)"
      ],
      "metadata": {
        "colab": {
          "base_uri": "https://localhost:8080/",
          "height": 17
        },
        "id": "1vdCmHR5rQXp",
        "outputId": "4a5a2035-0879-4e20-f53e-539aba005780"
      },
      "execution_count": null,
      "outputs": [
        {
          "output_type": "display_data",
          "data": {
            "text/plain": [
              "<IPython.core.display.Javascript object>"
            ],
            "application/javascript": [
              "\n",
              "    async function download(id, filename, size) {\n",
              "      if (!google.colab.kernel.accessAllowed) {\n",
              "        return;\n",
              "      }\n",
              "      const div = document.createElement('div');\n",
              "      const label = document.createElement('label');\n",
              "      label.textContent = `Downloading \"${filename}\": `;\n",
              "      div.appendChild(label);\n",
              "      const progress = document.createElement('progress');\n",
              "      progress.max = size;\n",
              "      div.appendChild(progress);\n",
              "      document.body.appendChild(div);\n",
              "\n",
              "      const buffers = [];\n",
              "      let downloaded = 0;\n",
              "\n",
              "      const channel = await google.colab.kernel.comms.open(id);\n",
              "      // Send a message to notify the kernel that we're ready.\n",
              "      channel.send({})\n",
              "\n",
              "      for await (const message of channel.messages) {\n",
              "        // Send a message to notify the kernel that we're ready.\n",
              "        channel.send({})\n",
              "        if (message.buffers) {\n",
              "          for (const buffer of message.buffers) {\n",
              "            buffers.push(buffer);\n",
              "            downloaded += buffer.byteLength;\n",
              "            progress.value = downloaded;\n",
              "          }\n",
              "        }\n",
              "      }\n",
              "      const blob = new Blob(buffers, {type: 'application/binary'});\n",
              "      const a = document.createElement('a');\n",
              "      a.href = window.URL.createObjectURL(blob);\n",
              "      a.download = filename;\n",
              "      div.appendChild(a);\n",
              "      a.click();\n",
              "      div.remove();\n",
              "    }\n",
              "  "
            ]
          },
          "metadata": {}
        },
        {
          "output_type": "display_data",
          "data": {
            "text/plain": [
              "<IPython.core.display.Javascript object>"
            ],
            "application/javascript": [
              "download(\"download_bdc6cc00-4e68-41aa-8210-fef8e249d726\", \"dados_processos.xlsx\", 6930)"
            ]
          },
          "metadata": {}
        }
      ]
    }
  ]
}
