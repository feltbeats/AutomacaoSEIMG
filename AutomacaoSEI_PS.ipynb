{
 "cells": [
  {
   "cell_type": "code",
   "execution_count": null,
   "id": "e7587e9e",
   "metadata": {},
   "outputs": [],
   "source": [
    "# Automação da Verificação do SEI usando Python e Selenium"
   ]
  },
  {
   "cell_type": "code",
   "execution_count": 94,
   "id": "bfe47c24",
   "metadata": {
    "scrolled": true
   },
   "outputs": [],
   "source": [
    "from selenium import webdriver\n",
    "from webdriver_manager.chrome import ChromeDriverManager\n",
    "from selenium.webdriver.chrome.service import Service\n",
    "import pandas as pd\n",
    "import time\n",
    "from selenium.webdriver.common.by import By\n",
    "from selenium.common.exceptions import NoSuchElementException\n",
    "\n",
    "servico = Service(ChromeDriverManager().install())\n",
    "navegador = webdriver.Chrome(service=servico)"
   ]
  },
  {
   "cell_type": "code",
   "execution_count": 95,
   "id": "f4513d4f",
   "metadata": {},
   "outputs": [],
   "source": [
    "# Passo 1 - selecionar o site\n",
    "navegador.get(\"https://www.sei.mg.gov.br/sei/controlador_externo.php?acao=usuario_externo_logar&id_orgao_acesso_externo=0\")\n",
    "\n",
    "# Passo 2 - preencher campo de usuário e senha\n",
    "navegador.find_element('xpath', '//*[@id=\"txtEmail\"]').send_keys('SEU EMAIL AQUI') #MUDAR O USUÁRIO\n",
    "navegador.find_element('xpath', '//*[@id=\"pwdSenha\"]').send_keys('SUA SENHA AQUI') #MUDAR A SENHA\n",
    "\n",
    "# Passo 3 - clicar no botão e entrar\n",
    "navegador.find_element('xpath', '//*[@id=\"sbmLogin\"]').click()"
   ]
  },
  {
   "cell_type": "code",
   "execution_count": 96,
   "id": "846f4a6f",
   "metadata": {
    "scrolled": true
   },
   "outputs": [],
   "source": [
    "urls_processos = []\n",
    "\n",
    "while True:\n",
    "    # Localize todos os links dos processos na página atual\n",
    "    elementos_links_processos = navegador.find_elements(By.XPATH, '//*[@id=\"tblDocumentos\"]//td[2]/a')\n",
    "    \n",
    "    # Se não houver mais links de processos, saia do loop\n",
    "    if not elementos_links_processos:\n",
    "        break\n",
    "    \n",
    "    # Crie uma lista de URLs dos processos da página atual e adicione à lista principal\n",
    "    urls_processos += [elemento.get_attribute('href') for elemento in elementos_links_processos]\n",
    "    \n",
    "    # Vá para a próxima página\n",
    "    try:\n",
    "        # Encontre o elemento de paginação\n",
    "        paginacao = navegador.find_element(By.ID, 'lnkInfraProximaPaginaSuperior')\n",
    "        # Clique no link para acessar a próxima página\n",
    "        paginacao.click()\n",
    "        # Espere um momento para a nova página carregar completamente\n",
    "        time.sleep(3)\n",
    "    except NoSuchElementException:\n",
    "        # Se não houver mais páginas, saia do loop\n",
    "        break\n",
    "\n",
    "informacoes = []\n",
    "\n",
    "# Iterar sobre as URLs dos processos\n",
    "for url_processo in urls_processos:\n",
    "    navegador.get(url_processo)\n",
    "    \n",
    "    # Coleta o número de processo diretamente da página\n",
    "    numero_processo_pagina = navegador.find_element(By.XPATH, '//*[@id=\"tblCabecalho\"]/tbody/tr[2]/td[2]').text\n",
    "    \n",
    "    # Coleta informações da tabela com id \"tblCabecalho\"\n",
    "    tabela_cabecalho = navegador.find_element(By.ID, 'tblCabecalho')\n",
    "    \n",
    "    # Coleta as informações das células especificadas dentro da tabela \"tblCabecalho\"\n",
    "    dado1 = tabela_cabecalho.find_element(By.XPATH, '//*[@id=\"tblCabecalho\"]/tbody/tr[3]/td[2]').text\n",
    "    dado2 = tabela_cabecalho.find_element(By.XPATH, '//*[@id=\"tblCabecalho\"]/tbody/tr[4]/td[2]').text\n",
    "    \n",
    "    # Coleta informações da tabela com id \"tblDocumentos\"\n",
    "    tabela_documentos = navegador.find_element(By.ID, 'tblDocumentos')\n",
    "    \n",
    "    # Coleta as informações da última linha da tabela \"tblDocumentos\"\n",
    "    elementos_ultima_linha = tabela_documentos.find_elements(By.XPATH, '//*[@id=\"tblDocumentos\"]/tbody/tr[last()]/td')\n",
    "    \n",
    "    # Coleta as informações específicas da última linha\n",
    "    dado3 = elementos_ultima_linha[2].text\n",
    "    dado4 = elementos_ultima_linha[3].text\n",
    "    dado5 = elementos_ultima_linha[4].text\n",
    "    \n",
    "    # Armazene essas informações em uma lista\n",
    "    informacoes.append({'Número de Processo Página': numero_processo_pagina, 'Tipo de Processo': dado1, 'Data de Criação': dado2, 'Último Documento': dado3, 'Data de Última Movimentação': dado4, 'Unidade do Documento': dado5})\n",
    "\n",
    "df = pd.DataFrame(informacoes, columns=['Número de Processo Página', 'Tipo de Processo', 'Data de Criação', 'Último Documento', 'Data de Última Movimentação', 'Unidade do Documento'])\n",
    "\n",
    "# Salve o DataFrame em um arquivo Excel\n",
    "df.to_excel(\"dados_processos.xlsx\", index=False)"
   ]
  },
  {
   "cell_type": "code",
   "execution_count": null,
   "id": "c77b49fb",
   "metadata": {},
   "outputs": [],
   "source": []
  }
 ],
 "metadata": {
  "kernelspec": {
   "display_name": "Python 3 (ipykernel)",
   "language": "python",
   "name": "python3"
  },
  "language_info": {
   "codemirror_mode": {
    "name": "ipython",
    "version": 3
   },
   "file_extension": ".py",
   "mimetype": "text/x-python",
   "name": "python",
   "nbconvert_exporter": "python",
   "pygments_lexer": "ipython3",
   "version": "3.11.5"
  }
 },
 "nbformat": 4,
 "nbformat_minor": 5
}
